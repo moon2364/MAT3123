{
  "nbformat": 4,
  "nbformat_minor": 0,
  "metadata": {
    "colab": {
      "provenance": [],
      "collapsed_sections": [
        "48UGLgt2XkB7",
        "-erU4QlsXwPW",
        "q01CqMcrYBNt",
        "tdIlxsbEYFrg",
        "N7fv4Ib5YM_g"
      ]
    },
    "kernelspec": {
      "name": "python3",
      "display_name": "Python 3"
    },
    "language_info": {
      "name": "python"
    }
  },
  "cells": [
    {
      "cell_type": "markdown",
      "source": [
        "## **1. setup_environmenth**"
      ],
      "metadata": {
        "id": "48UGLgt2XkB7"
      }
    },
    {
      "cell_type": "code",
      "source": [
        "!pip install bs4\n",
        "!pip install requests beautifulsoup4 pandas\n",
        "!pip install selenium\n",
        "!pip install webdriver-manager"
      ],
      "metadata": {
        "colab": {
          "base_uri": "https://localhost:8080/"
        },
        "id": "9XDFZMkYWC0_",
        "outputId": "daf88685-83e5-47ba-dd4b-0e16e3703a08"
      },
      "execution_count": 1,
      "outputs": [
        {
          "output_type": "stream",
          "name": "stdout",
          "text": [
            "Requirement already satisfied: bs4 in /usr/local/lib/python3.10/dist-packages (0.0.2)\n",
            "Requirement already satisfied: beautifulsoup4 in /usr/local/lib/python3.10/dist-packages (from bs4) (4.12.3)\n",
            "Requirement already satisfied: soupsieve>1.2 in /usr/local/lib/python3.10/dist-packages (from beautifulsoup4->bs4) (2.6)\n",
            "Requirement already satisfied: requests in /usr/local/lib/python3.10/dist-packages (2.32.3)\n",
            "Requirement already satisfied: beautifulsoup4 in /usr/local/lib/python3.10/dist-packages (4.12.3)\n",
            "Requirement already satisfied: pandas in /usr/local/lib/python3.10/dist-packages (2.2.2)\n",
            "Requirement already satisfied: charset-normalizer<4,>=2 in /usr/local/lib/python3.10/dist-packages (from requests) (3.4.0)\n",
            "Requirement already satisfied: idna<4,>=2.5 in /usr/local/lib/python3.10/dist-packages (from requests) (3.10)\n",
            "Requirement already satisfied: urllib3<3,>=1.21.1 in /usr/local/lib/python3.10/dist-packages (from requests) (2.2.3)\n",
            "Requirement already satisfied: certifi>=2017.4.17 in /usr/local/lib/python3.10/dist-packages (from requests) (2024.12.14)\n",
            "Requirement already satisfied: soupsieve>1.2 in /usr/local/lib/python3.10/dist-packages (from beautifulsoup4) (2.6)\n",
            "Requirement already satisfied: numpy>=1.22.4 in /usr/local/lib/python3.10/dist-packages (from pandas) (1.26.4)\n",
            "Requirement already satisfied: python-dateutil>=2.8.2 in /usr/local/lib/python3.10/dist-packages (from pandas) (2.8.2)\n",
            "Requirement already satisfied: pytz>=2020.1 in /usr/local/lib/python3.10/dist-packages (from pandas) (2024.2)\n",
            "Requirement already satisfied: tzdata>=2022.7 in /usr/local/lib/python3.10/dist-packages (from pandas) (2024.2)\n",
            "Requirement already satisfied: six>=1.5 in /usr/local/lib/python3.10/dist-packages (from python-dateutil>=2.8.2->pandas) (1.17.0)\n",
            "Requirement already satisfied: selenium in /usr/local/lib/python3.10/dist-packages (4.27.1)\n",
            "Requirement already satisfied: urllib3<3,>=1.26 in /usr/local/lib/python3.10/dist-packages (from urllib3[socks]<3,>=1.26->selenium) (2.2.3)\n",
            "Requirement already satisfied: trio~=0.17 in /usr/local/lib/python3.10/dist-packages (from selenium) (0.27.0)\n",
            "Requirement already satisfied: trio-websocket~=0.9 in /usr/local/lib/python3.10/dist-packages (from selenium) (0.11.1)\n",
            "Requirement already satisfied: certifi>=2021.10.8 in /usr/local/lib/python3.10/dist-packages (from selenium) (2024.12.14)\n",
            "Requirement already satisfied: typing_extensions~=4.9 in /usr/local/lib/python3.10/dist-packages (from selenium) (4.12.2)\n",
            "Requirement already satisfied: websocket-client~=1.8 in /usr/local/lib/python3.10/dist-packages (from selenium) (1.8.0)\n",
            "Requirement already satisfied: attrs>=23.2.0 in /usr/local/lib/python3.10/dist-packages (from trio~=0.17->selenium) (24.3.0)\n",
            "Requirement already satisfied: sortedcontainers in /usr/local/lib/python3.10/dist-packages (from trio~=0.17->selenium) (2.4.0)\n",
            "Requirement already satisfied: idna in /usr/local/lib/python3.10/dist-packages (from trio~=0.17->selenium) (3.10)\n",
            "Requirement already satisfied: outcome in /usr/local/lib/python3.10/dist-packages (from trio~=0.17->selenium) (1.3.0.post0)\n",
            "Requirement already satisfied: sniffio>=1.3.0 in /usr/local/lib/python3.10/dist-packages (from trio~=0.17->selenium) (1.3.1)\n",
            "Requirement already satisfied: exceptiongroup in /usr/local/lib/python3.10/dist-packages (from trio~=0.17->selenium) (1.2.2)\n",
            "Requirement already satisfied: wsproto>=0.14 in /usr/local/lib/python3.10/dist-packages (from trio-websocket~=0.9->selenium) (1.2.0)\n",
            "Requirement already satisfied: pysocks!=1.5.7,<2.0,>=1.5.6 in /usr/local/lib/python3.10/dist-packages (from urllib3[socks]<3,>=1.26->selenium) (1.7.1)\n",
            "Requirement already satisfied: h11<1,>=0.9.0 in /usr/local/lib/python3.10/dist-packages (from wsproto>=0.14->trio-websocket~=0.9->selenium) (0.14.0)\n",
            "Requirement already satisfied: webdriver-manager in /usr/local/lib/python3.10/dist-packages (4.0.2)\n",
            "Requirement already satisfied: requests in /usr/local/lib/python3.10/dist-packages (from webdriver-manager) (2.32.3)\n",
            "Requirement already satisfied: python-dotenv in /usr/local/lib/python3.10/dist-packages (from webdriver-manager) (1.0.1)\n",
            "Requirement already satisfied: packaging in /usr/local/lib/python3.10/dist-packages (from webdriver-manager) (24.2)\n",
            "Requirement already satisfied: charset-normalizer<4,>=2 in /usr/local/lib/python3.10/dist-packages (from requests->webdriver-manager) (3.4.0)\n",
            "Requirement already satisfied: idna<4,>=2.5 in /usr/local/lib/python3.10/dist-packages (from requests->webdriver-manager) (3.10)\n",
            "Requirement already satisfied: urllib3<3,>=1.21.1 in /usr/local/lib/python3.10/dist-packages (from requests->webdriver-manager) (2.2.3)\n",
            "Requirement already satisfied: certifi>=2017.4.17 in /usr/local/lib/python3.10/dist-packages (from requests->webdriver-manager) (2024.12.14)\n"
          ]
        }
      ]
    },
    {
      "cell_type": "code",
      "source": [
        "from selenium import webdriver\n",
        "from bs4 import BeautifulSoup\n",
        "from selenium.webdriver.chrome.service import Service\n",
        "import pandas as pd\n",
        "from webdriver_manager.chrome import ChromeDriverManager"
      ],
      "metadata": {
        "id": "23C7tArqHDNR"
      },
      "execution_count": 2,
      "outputs": []
    },
    {
      "cell_type": "code",
      "source": [
        "!apt update\n",
        "!apt install -y wget unzip\n",
        "!wget https://dl.google.com/linux/direct/google-chrome-stable_current_amd64.deb\n",
        "!dpkg -i google-chrome-stable_current_amd64.deb\n",
        "!apt --fix-broken install -y\n",
        "!wget https://chromedriver.storage.googleapis.com/114.0.5735.90/chromedriver_linux64.zip\n",
        "!unzip chromedriver_linux64.zip\n",
        "!mv chromedriver /usr/bin/chromedriver\n"
      ],
      "metadata": {
        "colab": {
          "base_uri": "https://localhost:8080/"
        },
        "id": "ZPx5s1J5LNir",
        "outputId": "550ab6e5-813f-486f-c42a-b8f7870aee33"
      },
      "execution_count": 3,
      "outputs": [
        {
          "output_type": "stream",
          "name": "stdout",
          "text": [
            "\u001b[33m\r0% [Working]\u001b[0m\r            \rHit:1 https://dl.google.com/linux/chrome/deb stable InRelease\n",
            "\u001b[33m\r0% [Connecting to archive.ubuntu.com (185.125.190.82)] [Connecting to security.ubuntu.com (185.125.1\u001b[0m\r                                                                                                    \rHit:2 https://cloud.r-project.org/bin/linux/ubuntu jammy-cran40/ InRelease\n",
            "\u001b[33m\r0% [Connecting to archive.ubuntu.com (185.125.190.82)] [Waiting for headers] [Waiting for headers] [\u001b[0m\r                                                                                                    \rHit:3 https://developer.download.nvidia.com/compute/cuda/repos/ubuntu2204/x86_64  InRelease\n",
            "\u001b[33m\r0% [Waiting for headers] [Waiting for headers] [Waiting for headers] [Connecting to ppa.launchpadcon\u001b[0m\r                                                                                                    \rGet:4 http://security.ubuntu.com/ubuntu jammy-security InRelease [129 kB]\n",
            "\u001b[33m\r0% [Waiting for headers] [4 InRelease 12.7 kB/129 kB 10%] [Waiting for headers] [Connected to ppa.la\u001b[0m\r                                                                                                    \rHit:5 https://r2u.stat.illinois.edu/ubuntu jammy InRelease\n",
            "Hit:6 http://archive.ubuntu.com/ubuntu jammy InRelease\n",
            "Get:7 http://archive.ubuntu.com/ubuntu jammy-updates InRelease [128 kB]\n",
            "Hit:8 https://ppa.launchpadcontent.net/deadsnakes/ppa/ubuntu jammy InRelease\n",
            "Hit:9 https://ppa.launchpadcontent.net/graphics-drivers/ppa/ubuntu jammy InRelease\n",
            "Hit:10 https://ppa.launchpadcontent.net/ubuntugis/ppa/ubuntu jammy InRelease\n",
            "Hit:11 http://archive.ubuntu.com/ubuntu jammy-backports InRelease\n",
            "Fetched 257 kB in 2s (155 kB/s)\n",
            "Reading package lists... Done\n",
            "Building dependency tree... Done\n",
            "Reading state information... Done\n",
            "54 packages can be upgraded. Run 'apt list --upgradable' to see them.\n",
            "\u001b[1;33mW: \u001b[0mSkipping acquire of configured file 'main/source/Sources' as repository 'https://r2u.stat.illinois.edu/ubuntu jammy InRelease' does not seem to provide it (sources.list entry misspelt?)\u001b[0m\n",
            "Reading package lists... Done\n",
            "Building dependency tree... Done\n",
            "Reading state information... Done\n",
            "unzip is already the newest version (6.0-26ubuntu3.2).\n",
            "wget is already the newest version (1.21.2-2ubuntu1.1).\n",
            "0 upgraded, 0 newly installed, 0 to remove and 54 not upgraded.\n",
            "--2024-12-19 12:33:06--  https://dl.google.com/linux/direct/google-chrome-stable_current_amd64.deb\n",
            "Resolving dl.google.com (dl.google.com)... 172.217.203.93, 172.217.203.190, 172.217.203.136, ...\n",
            "Connecting to dl.google.com (dl.google.com)|172.217.203.93|:443... connected.\n",
            "HTTP request sent, awaiting response... 200 OK\n",
            "Length: 112770956 (108M) [application/x-debian-package]\n",
            "Saving to: ‘google-chrome-stable_current_amd64.deb.3’\n",
            "\n",
            "google-chrome-stabl 100%[===================>] 107.55M   174MB/s    in 0.6s    \n",
            "\n",
            "2024-12-19 12:33:07 (174 MB/s) - ‘google-chrome-stable_current_amd64.deb.3’ saved [112770956/112770956]\n",
            "\n",
            "(Reading database ... 123790 files and directories currently installed.)\n",
            "Preparing to unpack google-chrome-stable_current_amd64.deb ...\n",
            "Unpacking google-chrome-stable (131.0.6778.204-1) over (131.0.6778.204-1) ...\n",
            "Setting up google-chrome-stable (131.0.6778.204-1) ...\n",
            "Processing triggers for man-db (2.10.2-1) ...\n",
            "Reading package lists... Done\n",
            "Building dependency tree... Done\n",
            "Reading state information... Done\n",
            "0 upgraded, 0 newly installed, 0 to remove and 54 not upgraded.\n",
            "--2024-12-19 12:33:32--  https://chromedriver.storage.googleapis.com/114.0.5735.90/chromedriver_linux64.zip\n",
            "Resolving chromedriver.storage.googleapis.com (chromedriver.storage.googleapis.com)... 173.194.215.207, 173.194.216.207, 173.194.217.207, ...\n",
            "Connecting to chromedriver.storage.googleapis.com (chromedriver.storage.googleapis.com)|173.194.215.207|:443... connected.\n",
            "HTTP request sent, awaiting response... 200 OK\n",
            "Length: 7407250 (7.1M) [application/zip]\n",
            "Saving to: ‘chromedriver_linux64.zip.3’\n",
            "\n",
            "chromedriver_linux6 100%[===================>]   7.06M  --.-KB/s    in 0.04s   \n",
            "\n",
            "2024-12-19 12:33:32 (174 MB/s) - ‘chromedriver_linux64.zip.3’ saved [7407250/7407250]\n",
            "\n",
            "Archive:  chromedriver_linux64.zip\n",
            "  inflating: chromedriver            \n",
            "replace LICENSE.chromedriver? [y]es, [n]o, [A]ll, [N]one, [r]ename: y\n",
            "  inflating: LICENSE.chromedriver    \n"
          ]
        }
      ]
    },
    {
      "cell_type": "code",
      "source": [
        "chrome_options = webdriver.ChromeOptions()\n",
        "chrome_options.add_argument('--headless')\n",
        "chrome_options.add_argument('--no-sandbox')\n",
        "chrome_options.add_argument('--disable-dev-shm-usage')\n",
        "service = Service(ChromeDriverManager().install())\n",
        "chromeDriver = webdriver.Chrome(service=service, options=chrome_options)"
      ],
      "metadata": {
        "id": "axs7Un2xdHPL"
      },
      "execution_count": 4,
      "outputs": []
    },
    {
      "cell_type": "code",
      "source": [
        "chrome_options.binary_location = \"/usr/bin/google-chrome\"\n",
        "service = Service(\"/usr/bin/chromedriver\")\n"
      ],
      "metadata": {
        "id": "H1r2L-IZLNS8"
      },
      "execution_count": 5,
      "outputs": []
    },
    {
      "cell_type": "markdown",
      "source": [
        "## **2. data_fetch**"
      ],
      "metadata": {
        "id": "-erU4QlsXwPW"
      }
    },
    {
      "cell_type": "code",
      "source": [
        "url = [\"https://statiz.sporki.com/stats/?m=main&m2=batting&m3=default&so=WAR&ob=DESC&year=2017&sy=2017&ey=&te=&po=&lt=10100&reg=R&pe=&ds=&de=&we=&hr=&ha=&ct=&st=&vp=&bo=&pt=&pp=&ii=&vc=&um=&oo=&rr=&sc=&bc=&ba=&li=&as=&ae=&pl=&gc=&lr=&pr=50&ph=&hs=&us=&na=&ls=&sf1=&sk1=&sv1=&sf2=&sk2=&sv2=\",\n",
        "       \"https://statiz.sporki.com/stats/?m=main&m2=batting&m3=default&so=WAR&ob=DESC&year=2018&sy=&ey=&te=&po=&lt=10100&reg=R&pe=&ds=&de=&we=&hr=&ha=&ct=&st=&vp=&bo=&pt=&pp=&ii=&vc=&um=&oo=&rr=&sc=&bc=&ba=&li=&as=&ae=&pl=&gc=&lr=&pr=50&ph=&hs=&us=&na=&ls=&sf1=&sk1=&sv1=&sf2=&sk2=&sv2=\",\n",
        "       \"https://statiz.sporki.com/stats/?m=main&m2=batting&m3=default&so=WAR&ob=DESC&year=2019&sy=&ey=&te=&po=&lt=10100&reg=R&pe=&ds=&de=&we=&hr=&ha=&ct=&st=&vp=&bo=&pt=&pp=&ii=&vc=&um=&oo=&rr=&sc=&bc=&ba=&li=&as=&ae=&pl=&gc=&lr=&pr=50&ph=&hs=&us=&na=&ls=&sf1=&sk1=&sv1=&sf2=&sk2=&sv2=\",\n",
        "       \"https://statiz.sporki.com/stats/?m=main&m2=batting&m3=default&so=WAR&ob=DESC&year=2020&sy=&ey=&te=&po=&lt=10100&reg=R&pe=&ds=&de=&we=&hr=&ha=&ct=&st=&vp=&bo=&pt=&pp=&ii=&vc=&um=&oo=&rr=&sc=&bc=&ba=&li=&as=&ae=&pl=&gc=&lr=&pr=50&ph=&hs=&us=&na=&ls=&sf1=&sk1=&sv1=&sf2=&sk2=&sv2=\",\n",
        "       \"https://statiz.sporki.com/stats/?m=main&m2=batting&m3=default&so=WAR&ob=DESC&year=2021&sy=&ey=&te=&po=&lt=10100&reg=R&pe=&ds=&de=&we=&hr=&ha=&ct=&st=&vp=&bo=&pt=&pp=&ii=&vc=&um=&oo=&rr=&sc=&bc=&ba=&li=&as=&ae=&pl=&gc=&lr=&pr=50&ph=&hs=&us=&na=&ls=&sf1=&sk1=&sv1=&sf2=&sk2=&sv2=\",\n",
        "       \"https://statiz.sporki.com/stats/?m=main&m2=batting&m3=default&so=WAR&ob=DESC&year=2022&sy=&ey=&te=&po=&lt=10100&reg=R&pe=&ds=&de=&we=&hr=&ha=&ct=&st=&vp=&bo=&pt=&pp=&ii=&vc=&um=&oo=&rr=&sc=&bc=&ba=&li=&as=&ae=&pl=&gc=&lr=&pr=50&ph=&hs=&us=&na=&ls=&sf1=&sk1=&sv1=&sf2=&sk2=&sv2=\",\n",
        "       \"https://statiz.sporki.com/stats/?m=main&m2=batting&m3=default&so=WAR&ob=DESC&year=2023&sy=&ey=&te=&po=&lt=10100&reg=R&pe=&ds=&de=&we=&hr=&ha=&ct=&st=&vp=&bo=&pt=&pp=&ii=&vc=&um=&oo=&rr=&sc=&bc=&ba=&li=&as=&ae=&pl=&gc=&lr=&pr=50&ph=&hs=&us=&na=&ls=&sf1=&sk1=&sv1=&sf2=&sk2=&sv2=\"]\n"
      ],
      "metadata": {
        "id": "BJu-B2G6LmgK"
      },
      "execution_count": 6,
      "outputs": []
    },
    {
      "cell_type": "code",
      "source": [
        "rows = []\n",
        "for i in range(len(url)):\n",
        "    chromeDriver.get(url[i])\n",
        "    html = chromeDriver.page_source\n",
        "    bsObject = BeautifulSoup(html, 'html.parser')\n",
        "    temp = bsObject.find_all(\"table\")[0]\n",
        "    column = [\"Rank\", \"Name\", \"Team\", \"WAR\", \"oWAR\", \"dWAR\", \"G\", \"PA\", \"ePA\", \"AB\", \"R\", \"H\", \"2B\", \"3B\", \"HR\", \"TB\", \"RBI\", \"SB\", \"CS\", \"BB\", \"HP\", \"IB\", \"SO\", \"GDP\", \"SH\", \"SF\", \"AVG\", \"OBP\", \"SLG\", \"OPS\", \"R/ePA\", \"wRC+\",\n",
        "    ]\n",
        "\n",
        "    temp_len = len(temp.find_all(\"tr\"))\n",
        "\n",
        "    for i in range(2, temp_len):\n",
        "        tempTr = temp.find_all(\"tr\")[i]\n",
        "\n",
        "        if tempTr.find(\"th\") is not None:\n",
        "            continue\n",
        "\n",
        "        tds = tempTr.find_all(\"td\")\n",
        "\n",
        "\n",
        "        row = {col: tds[idx].text.strip() for idx, col in enumerate(column)}\n",
        "\n",
        "        rows.append(row)\n",
        "\n",
        "df = pd.DataFrame(rows)"
      ],
      "metadata": {
        "id": "V9fqH7ncMHuK"
      },
      "execution_count": 7,
      "outputs": []
    },
    {
      "cell_type": "code",
      "source": [
        "df_raw = df"
      ],
      "metadata": {
        "id": "9h5e5cpd_fW3"
      },
      "execution_count": 8,
      "outputs": []
    },
    {
      "cell_type": "markdown",
      "source": [
        "## **3. preprocessing**"
      ],
      "metadata": {
        "id": "H6m1a9LaX3-S"
      }
    },
    {
      "cell_type": "code",
      "source": [
        "df.info() # 결측치 X -> 결측치 전처리 안함\n",
        "df = df.drop(columns=['Rank','Name', 'Team'])"
      ],
      "metadata": {
        "id": "-oyRzD3mNX7S",
        "colab": {
          "base_uri": "https://localhost:8080/"
        },
        "collapsed": true,
        "outputId": "7086fd7d-d3ee-40f6-b5b9-ae47b2af60fd"
      },
      "execution_count": 9,
      "outputs": [
        {
          "output_type": "stream",
          "name": "stdout",
          "text": [
            "<class 'pandas.core.frame.DataFrame'>\n",
            "RangeIndex: 347 entries, 0 to 346\n",
            "Data columns (total 32 columns):\n",
            " #   Column  Non-Null Count  Dtype \n",
            "---  ------  --------------  ----- \n",
            " 0   Rank    347 non-null    object\n",
            " 1   Name    347 non-null    object\n",
            " 2   Team    347 non-null    object\n",
            " 3   WAR     347 non-null    object\n",
            " 4   oWAR    347 non-null    object\n",
            " 5   dWAR    347 non-null    object\n",
            " 6   G       347 non-null    object\n",
            " 7   PA      347 non-null    object\n",
            " 8   ePA     347 non-null    object\n",
            " 9   AB      347 non-null    object\n",
            " 10  R       347 non-null    object\n",
            " 11  H       347 non-null    object\n",
            " 12  2B      347 non-null    object\n",
            " 13  3B      347 non-null    object\n",
            " 14  HR      347 non-null    object\n",
            " 15  TB      347 non-null    object\n",
            " 16  RBI     347 non-null    object\n",
            " 17  SB      347 non-null    object\n",
            " 18  CS      347 non-null    object\n",
            " 19  BB      347 non-null    object\n",
            " 20  HP      347 non-null    object\n",
            " 21  IB      347 non-null    object\n",
            " 22  SO      347 non-null    object\n",
            " 23  GDP     347 non-null    object\n",
            " 24  SH      347 non-null    object\n",
            " 25  SF      347 non-null    object\n",
            " 26  AVG     347 non-null    object\n",
            " 27  OBP     347 non-null    object\n",
            " 28  SLG     347 non-null    object\n",
            " 29  OPS     347 non-null    object\n",
            " 30  R/ePA   347 non-null    object\n",
            " 31  wRC+    347 non-null    object\n",
            "dtypes: object(32)\n",
            "memory usage: 86.9+ KB\n"
          ]
        }
      ]
    },
    {
      "cell_type": "code",
      "source": [
        "# 상관 행렬 및 히트맵\n",
        "import matplotlib.pyplot as plt\n",
        "import seaborn as sns\n",
        "correlation_matrix = df.corr()\n",
        "# 상관관계 임계값 설정\n",
        "threshold = 0.8\n",
        "high_corr_vars = correlation_matrix[\n",
        "    (correlation_matrix.abs() >= threshold) & (correlation_matrix != 1)\n",
        "].dropna(how='all', axis=0).dropna(how='all', axis=1)\n",
        "\n",
        "# 상관관계가 높은 변수들만 히트맵으로 시각화\n",
        "plt.figure(figsize=(8, 6))\n",
        "sns.heatmap(high_corr_vars, annot=False, cmap='coolwarm')\n",
        "plt.title(\"Highly Correlated Features\")\n",
        "plt.show()"
      ],
      "metadata": {
        "colab": {
          "base_uri": "https://localhost:8080/",
          "height": 0
        },
        "id": "Fx-QpVUkQ3nD",
        "outputId": "1621784f-856f-4586-d8f3-7a302d2461ef"
      },
      "execution_count": 10,
      "outputs": [
        {
          "output_type": "display_data",
          "data": {
            "text/plain": [
              "<Figure size 800x600 with 2 Axes>"
            ],
            "image/png": "[encoded data removed]"
          },
          "metadata": {}
        }
      ]
    },
    {
      "cell_type": "code",
      "source": [
        "df = df.drop(columns=['oWAR','PA', 'AB', 'R/ePA', 'SLG'])"
      ],
      "metadata": {
        "id": "L7f5Did0WUk1"
      },
      "execution_count": 11,
      "outputs": []
    },
    {
      "cell_type": "code",
      "source": [
        "df['Golden'] = 0\n",
        "idx=[19, 20, 12, 1, 7, 11, 6, 3, 17, 48, 47, 57, 70, 59, 63, 54, 64, 98, 99, 105, 100, 97, 102, 101, 109, 103, 149, 153, 154, 155, 148, 160, 147, 152, 150, 211, 198, 205, 199, 210, 204, 200, 197, 201, 252, 256, 255, 254, 250, 248, 247, 249, 245, 299, 304, 300, 298, 303, 301, 311, 297, 306]\n",
        "# 골든글러브 받은 사람\n",
        "for x in idx:\n",
        "    df.loc[x,'Golden'] = 1"
      ],
      "metadata": {
        "id": "rPnUePdMYuJC"
      },
      "execution_count": 12,
      "outputs": []
    },
    {
      "cell_type": "markdown",
      "source": [
        "## **4. model_training**"
      ],
      "metadata": {
        "id": "q01CqMcrYBNt"
      }
    },
    {
      "cell_type": "code",
      "source": [
        "from sklearn.model_selection import KFold, cross_val_score, cross_val_predict\n",
        "from sklearn.metrics import classification_report, accuracy_score, confusion_matrix, roc_auc_score\n",
        "from sklearn.linear_model import LogisticRegression\n",
        "from imblearn.over_sampling import SMOTE\n",
        "import pandas as pd\n",
        "import numpy as np\n",
        "\n",
        "# 데이터 로드\n",
        "data=df\n",
        "print(data)\n",
        "X = data.drop(columns=['Golden'])  # Golden 열과 불필요한 인덱스 열 제거\n",
        "y = data['Golden']  # 타겟 변수\n",
        "\n",
        "# K-Fold 설정\n",
        "kf = KFold(n_splits=5, shuffle=True, random_state=42)  # 5개의 폴드로 분할\n",
        "\n",
        "\n",
        "\n",
        "for train_index, test_index in kf.split(X):\n",
        "    # 데이터 분할\n",
        "    X_train, X_test = X.iloc[train_index], X.iloc[test_index]\n",
        "    y_train, y_test = y.iloc[train_index], y.iloc[test_index]\n",
        "\n",
        "    # SMOTE 적용\n",
        "    smote = SMOTE(random_state=42)\n",
        "    X_train_resampled, y_train_resampled = smote.fit_resample(X_train, y_train)\n",
        "\n",
        "    # 모델 학습\n",
        "    model = LogisticRegression(max_iter=1000, random_state=42, C = 0.01)\n",
        "    model.fit(X_train_resampled, y_train_resampled)\n",
        "\n",
        "    # 예측\n",
        "    y_pred = model.predict(X_test)\n",
        "\n",
        "\n",
        "# 평가\n",
        "accuracy = accuracy_score(y_test, y_pred)\n",
        "print(f\"Accuracy: {accuracy:.2f}\")\n",
        "print(\"\\nClassification Report:\\n\", classification_report(y_test, y_pred))\n"
      ],
      "metadata": {
        "colab": {
          "base_uri": "https://localhost:8080/"
        },
        "id": "_JBDCR-hZkoH",
        "outputId": "220628e9-9d2c-42e6-8b05-272e533ea620"
      },
      "execution_count": 13,
      "outputs": [
        {
          "output_type": "stream",
          "name": "stdout",
          "text": [
            "      WAR   dWAR    G  ePA    R    H  2B 3B  HR   TB  ...  IB   SO GDP  SH SF  \\\n",
            "0    6.98  -0.35  144  628  110  185  34  2  35  328  ...  10  123   8   0  4   \n",
            "1    6.37   0.55  130  520   89  136  18  1  46  294  ...  10  107   8   0  8   \n",
            "2    5.94  -0.23  131  537   91  177  40  2  20  281  ...   2   64  15   5  4   \n",
            "3    5.94  -0.41  142  623   98  176  36  3  26  296  ...   8   82  15   0  8   \n",
            "4    5.77   0.61  141  597   90  159  36  3  23  270  ...   2   65   8   2  7   \n",
            "..    ...    ...  ...  ...  ...  ...  .. ..  ..  ...  ...  ..  ...  ..  .. ..   \n",
            "342  0.64  -0.96  139  605   66  159  28  1  16  237  ...   5   69  20   0  2   \n",
            "343  0.63  -0.23  109  471   62  119  10  6   3  150  ...   0   84   5   8  3   \n",
            "344  0.44  -0.36  132  481   40   89  15  0  10  134  ...   4  100   8   0  2   \n",
            "345  0.39  -0.62  132  511   63  122  11  1   2  141  ...   1   73  12  10  5   \n",
            "346  0.10  -0.63  129  441   53  102  24  0   3  135  ...   1  112   6  12  5   \n",
            "\n",
            "       AVG    OBP    OPS   wRC+ Golden  \n",
            "0    0.340  0.429  1.032  169.9      0  \n",
            "1    0.316  0.427  1.111  169.6      1  \n",
            "2    0.366  0.424  1.006  168.6      0  \n",
            "3    0.342  0.450  1.026  162.9      1  \n",
            "4    0.302  0.376  0.889  124.6      0  \n",
            "..     ...    ...    ...    ...    ...  \n",
            "342  0.285  0.339  0.764  107.9      0  \n",
            "343  0.275  0.327  0.673   85.2      0  \n",
            "344  0.220  0.343  0.674   98.8      0  \n",
            "345  0.268  0.340  0.650   84.8      0  \n",
            "346  0.255  0.314  0.652   78.1      0  \n",
            "\n",
            "[347 rows x 25 columns]\n"
          ]
        },
        {
          "output_type": "stream",
          "name": "stderr",
          "text": [
            "/usr/local/lib/python3.10/dist-packages/sklearn/base.py:474: FutureWarning: `BaseEstimator._validate_data` is deprecated in 1.6 and will be removed in 1.7. Use `sklearn.utils.validation.validate_data` instead. This function becomes public and is part of the scikit-learn developer API.\n",
            "  warnings.warn(\n",
            "/usr/local/lib/python3.10/dist-packages/sklearn/utils/_tags.py:354: FutureWarning: The SMOTE or classes from which it inherits use `_get_tags` and `_more_tags`. Please define the `__sklearn_tags__` method, or inherit from `sklearn.base.BaseEstimator` and/or other appropriate mixins such as `sklearn.base.TransformerMixin`, `sklearn.base.ClassifierMixin`, `sklearn.base.RegressorMixin`, and `sklearn.base.OutlierMixin`. From scikit-learn 1.7, not defining `__sklearn_tags__` will raise an error.\n",
            "  warnings.warn(\n",
            "/usr/local/lib/python3.10/dist-packages/sklearn/linear_model/_logistic.py:465: ConvergenceWarning: lbfgs failed to converge (status=1):\n",
            "STOP: TOTAL NO. of ITERATIONS REACHED LIMIT.\n",
            "\n",
            "Increase the number of iterations (max_iter) or scale the data as shown in:\n",
            "    https://scikit-learn.org/stable/modules/preprocessing.html\n",
            "Please also refer to the documentation for alternative solver options:\n",
            "    https://scikit-learn.org/stable/modules/linear_model.html#logistic-regression\n",
            "  n_iter_i = _check_optimize_result(\n",
            "/usr/local/lib/python3.10/dist-packages/sklearn/base.py:474: FutureWarning: `BaseEstimator._validate_data` is deprecated in 1.6 and will be removed in 1.7. Use `sklearn.utils.validation.validate_data` instead. This function becomes public and is part of the scikit-learn developer API.\n",
            "  warnings.warn(\n",
            "/usr/local/lib/python3.10/dist-packages/sklearn/utils/_tags.py:354: FutureWarning: The SMOTE or classes from which it inherits use `_get_tags` and `_more_tags`. Please define the `__sklearn_tags__` method, or inherit from `sklearn.base.BaseEstimator` and/or other appropriate mixins such as `sklearn.base.TransformerMixin`, `sklearn.base.ClassifierMixin`, `sklearn.base.RegressorMixin`, and `sklearn.base.OutlierMixin`. From scikit-learn 1.7, not defining `__sklearn_tags__` will raise an error.\n",
            "  warnings.warn(\n",
            "/usr/local/lib/python3.10/dist-packages/sklearn/linear_model/_logistic.py:465: ConvergenceWarning: lbfgs failed to converge (status=1):\n",
            "STOP: TOTAL NO. of ITERATIONS REACHED LIMIT.\n",
            "\n",
            "Increase the number of iterations (max_iter) or scale the data as shown in:\n",
            "    https://scikit-learn.org/stable/modules/preprocessing.html\n",
            "Please also refer to the documentation for alternative solver options:\n",
            "    https://scikit-learn.org/stable/modules/linear_model.html#logistic-regression\n",
            "  n_iter_i = _check_optimize_result(\n",
            "/usr/local/lib/python3.10/dist-packages/sklearn/base.py:474: FutureWarning: `BaseEstimator._validate_data` is deprecated in 1.6 and will be removed in 1.7. Use `sklearn.utils.validation.validate_data` instead. This function becomes public and is part of the scikit-learn developer API.\n",
            "  warnings.warn(\n",
            "/usr/local/lib/python3.10/dist-packages/sklearn/utils/_tags.py:354: FutureWarning: The SMOTE or classes from which it inherits use `_get_tags` and `_more_tags`. Please define the `__sklearn_tags__` method, or inherit from `sklearn.base.BaseEstimator` and/or other appropriate mixins such as `sklearn.base.TransformerMixin`, `sklearn.base.ClassifierMixin`, `sklearn.base.RegressorMixin`, and `sklearn.base.OutlierMixin`. From scikit-learn 1.7, not defining `__sklearn_tags__` will raise an error.\n",
            "  warnings.warn(\n",
            "/usr/local/lib/python3.10/dist-packages/sklearn/linear_model/_logistic.py:465: ConvergenceWarning: lbfgs failed to converge (status=1):\n",
            "STOP: TOTAL NO. of ITERATIONS REACHED LIMIT.\n",
            "\n",
            "Increase the number of iterations (max_iter) or scale the data as shown in:\n",
            "    https://scikit-learn.org/stable/modules/preprocessing.html\n",
            "Please also refer to the documentation for alternative solver options:\n",
            "    https://scikit-learn.org/stable/modules/linear_model.html#logistic-regression\n",
            "  n_iter_i = _check_optimize_result(\n",
            "/usr/local/lib/python3.10/dist-packages/sklearn/base.py:474: FutureWarning: `BaseEstimator._validate_data` is deprecated in 1.6 and will be removed in 1.7. Use `sklearn.utils.validation.validate_data` instead. This function becomes public and is part of the scikit-learn developer API.\n",
            "  warnings.warn(\n",
            "/usr/local/lib/python3.10/dist-packages/sklearn/utils/_tags.py:354: FutureWarning: The SMOTE or classes from which it inherits use `_get_tags` and `_more_tags`. Please define the `__sklearn_tags__` method, or inherit from `sklearn.base.BaseEstimator` and/or other appropriate mixins such as `sklearn.base.TransformerMixin`, `sklearn.base.ClassifierMixin`, `sklearn.base.RegressorMixin`, and `sklearn.base.OutlierMixin`. From scikit-learn 1.7, not defining `__sklearn_tags__` will raise an error.\n",
            "  warnings.warn(\n",
            "/usr/local/lib/python3.10/dist-packages/sklearn/linear_model/_logistic.py:465: ConvergenceWarning: lbfgs failed to converge (status=1):\n",
            "STOP: TOTAL NO. of ITERATIONS REACHED LIMIT.\n",
            "\n",
            "Increase the number of iterations (max_iter) or scale the data as shown in:\n",
            "    https://scikit-learn.org/stable/modules/preprocessing.html\n",
            "Please also refer to the documentation for alternative solver options:\n",
            "    https://scikit-learn.org/stable/modules/linear_model.html#logistic-regression\n",
            "  n_iter_i = _check_optimize_result(\n",
            "/usr/local/lib/python3.10/dist-packages/sklearn/base.py:474: FutureWarning: `BaseEstimator._validate_data` is deprecated in 1.6 and will be removed in 1.7. Use `sklearn.utils.validation.validate_data` instead. This function becomes public and is part of the scikit-learn developer API.\n",
            "  warnings.warn(\n",
            "/usr/local/lib/python3.10/dist-packages/sklearn/utils/_tags.py:354: FutureWarning: The SMOTE or classes from which it inherits use `_get_tags` and `_more_tags`. Please define the `__sklearn_tags__` method, or inherit from `sklearn.base.BaseEstimator` and/or other appropriate mixins such as `sklearn.base.TransformerMixin`, `sklearn.base.ClassifierMixin`, `sklearn.base.RegressorMixin`, and `sklearn.base.OutlierMixin`. From scikit-learn 1.7, not defining `__sklearn_tags__` will raise an error.\n",
            "  warnings.warn(\n"
          ]
        },
        {
          "output_type": "stream",
          "name": "stdout",
          "text": [
            "Accuracy: 0.84\n",
            "\n",
            "Classification Report:\n",
            "               precision    recall  f1-score   support\n",
            "\n",
            "           0       0.98      0.82      0.89        56\n",
            "           1       0.55      0.92      0.69        13\n",
            "\n",
            "    accuracy                           0.84        69\n",
            "   macro avg       0.76      0.87      0.79        69\n",
            "weighted avg       0.90      0.84      0.85        69\n",
            "\n"
          ]
        },
        {
          "output_type": "stream",
          "name": "stderr",
          "text": [
            "/usr/local/lib/python3.10/dist-packages/sklearn/linear_model/_logistic.py:465: ConvergenceWarning: lbfgs failed to converge (status=1):\n",
            "STOP: TOTAL NO. of ITERATIONS REACHED LIMIT.\n",
            "\n",
            "Increase the number of iterations (max_iter) or scale the data as shown in:\n",
            "    https://scikit-learn.org/stable/modules/preprocessing.html\n",
            "Please also refer to the documentation for alternative solver options:\n",
            "    https://scikit-learn.org/stable/modules/linear_model.html#logistic-regression\n",
            "  n_iter_i = _check_optimize_result(\n"
          ]
        }
      ]
    },
    {
      "cell_type": "markdown",
      "source": [
        "## **5. generate_predictions**"
      ],
      "metadata": {
        "id": "tdIlxsbEYFrg"
      }
    },
    {
      "cell_type": "code",
      "source": [
        "url = [\"https://statiz.sporki.com/stats/?m=main&m2=batting&m3=default&so=WAR&ob=DESC&year=2024&sy=&ey=&te=&po=2&lt=10100&reg=R&pe=&ds=&de=&we=&hr=&ha=&ct=&st=&vp=&bo=&pt=&pp=&ii=&vc=&um=&oo=&rr=&sc=&bc=&ba=&li=&as=&ae=&pl=&gc=&lr=&pr=50&ph=&hs=&us=&na=&ls=&sf1=&sk1=&sv1=&sf2=&sk2=&sv2=\",\n",
        "       \"https://statiz.sporki.com/stats/?m=main&m2=batting&m3=default&so=WAR&ob=DESC&year=2024&sy=&ey=&te=&po=3&lt=10100&reg=R&pe=&ds=&de=&we=&hr=&ha=&ct=&st=&vp=&bo=&pt=&pp=&ii=&vc=&um=&oo=&rr=&sc=&bc=&ba=&li=&as=&ae=&pl=&gc=&lr=&pr=50&ph=&hs=&us=&na=&ls=&sf1=&sk1=&sv1=&sf2=&sk2=&sv2=\",\n",
        "       \"https://statiz.sporki.com/stats/?m=main&m2=batting&m3=default&so=WAR&ob=DESC&year=2024&sy=&ey=&te=&po=4&lt=10100&reg=R&pe=&ds=&de=&we=&hr=&ha=&ct=&st=&vp=&bo=&pt=&pp=&ii=&vc=&um=&oo=&rr=&sc=&bc=&ba=&li=&as=&ae=&pl=&gc=&lr=&pr=50&ph=&hs=&us=&na=&ls=&sf1=&sk1=&sv1=&sf2=&sk2=&sv2=\",\n",
        "       \"https://statiz.sporki.com/stats/?m=main&m2=batting&m3=default&so=WAR&ob=DESC&year=2024&sy=&ey=&te=&po=5&lt=10100&reg=R&pe=&ds=&de=&we=&hr=&ha=&ct=&st=&vp=&bo=&pt=&pp=&ii=&vc=&um=&oo=&rr=&sc=&bc=&ba=&li=&as=&ae=&pl=&gc=&lr=&pr=50&ph=&hs=&us=&na=&ls=&sf1=&sk1=&sv1=&sf2=&sk2=&sv2=\",\n",
        "       \"https://statiz.sporki.com/stats/?m=main&m2=batting&m3=default&so=WAR&ob=DESC&year=2024&sy=&ey=&te=&po=6&lt=10100&reg=R&pe=&ds=&de=&we=&hr=&ha=&ct=&st=&vp=&bo=&pt=&pp=&ii=&vc=&um=&oo=&rr=&sc=&bc=&ba=&li=&as=&ae=&pl=&gc=&lr=&pr=50&ph=&hs=&us=&na=&ls=&sf1=&sk1=&sv1=&sf2=&sk2=&sv2=\",\n",
        "       \"https://statiz.sporki.com/stats/?m=main&m2=batting&m3=default&so=WAR&ob=DESC&year=2024&sy=&ey=&te=&po=7&lt=10100&reg=R&pe=&ds=&de=&we=&hr=&ha=&ct=&st=&vp=&bo=&pt=&pp=&ii=&vc=&um=&oo=&rr=&sc=&bc=&ba=&li=&as=&ae=&pl=&gc=&lr=&pr=50&ph=&hs=&us=&na=&ls=&sf1=&sk1=&sv1=&sf2=&sk2=&sv2=\",\n",
        "       \"https://statiz.sporki.com/stats/?m=main&m2=batting&m3=default&so=WAR&ob=DESC&year=2024&sy=&ey=&te=&po=8&lt=10100&reg=R&pe=&ds=&de=&we=&hr=&ha=&ct=&st=&vp=&bo=&pt=&pp=&ii=&vc=&um=&oo=&rr=&sc=&bc=&ba=&li=&as=&ae=&pl=&gc=&lr=&pr=50&ph=&hs=&us=&na=&ls=&sf1=&sk1=&sv1=&sf2=&sk2=&sv2=\",\n",
        "       \"https://statiz.sporki.com/stats/?m=main&m2=batting&m3=default&so=WAR&ob=DESC&year=2024&sy=&ey=&te=&po=9&lt=10100&reg=R&pe=&ds=&de=&we=&hr=&ha=&ct=&st=&vp=&bo=&pt=&pp=&ii=&vc=&um=&oo=&rr=&sc=&bc=&ba=&li=&as=&ae=&pl=&gc=&lr=&pr=50&ph=&hs=&us=&na=&ls=&sf1=&sk1=&sv1=&sf2=&sk2=&sv2=\",\n",
        "       \"https://statiz.sporki.com/stats/?m=main&m2=batting&m3=default&so=WAR&ob=DESC&year=2024&sy=&ey=&te=&po=10&lt=10100&reg=R&pe=&ds=&de=&we=&hr=&ha=&ct=&st=&vp=&bo=&pt=&pp=&ii=&vc=&um=&oo=&rr=&sc=&bc=&ba=&li=&as=&ae=&pl=&gc=&lr=&pr=50&ph=&hs=&us=&na=&ls=&sf1=&sk1=&sv1=&sf2=&sk2=&sv2=\"\n",
        "]"
      ],
      "metadata": {
        "id": "CuyesqBpy4_s"
      },
      "execution_count": 14,
      "outputs": []
    },
    {
      "cell_type": "code",
      "source": [
        "position = [\"포수\",\"1루수\",\"2루수\",\"3루수\",\"유격수\",\"좌익수\",\"중견수\",\"우익수\",\"지명타자\"]\n",
        "for i in range(len(url)):\n",
        "    rows = []\n",
        "    chromeDriver.get(url[i])\n",
        "    html = chromeDriver.page_source\n",
        "    bsObject = BeautifulSoup(html, 'html.parser')\n",
        "    temp = bsObject.find_all(\"table\")[0]\n",
        "    column = [\"Rank\", \"Name\", \"Team\", \"WAR\", \"oWAR\", \"dWAR\", \"G\", \"PA\", \"ePA\", \"AB\", \"R\", \"H\", \"2B\", \"3B\", \"HR\", \"TB\", \"RBI\", \"SB\", \"CS\", \"BB\", \"HP\", \"IB\", \"SO\", \"GDP\", \"SH\", \"SF\", \"AVG\", \"OBP\", \"SLG\", \"OPS\", \"R/ePA\", \"wRC+\",\n",
        "    ]\n",
        "\n",
        "    temp_len = len(temp.find_all(\"tr\"))\n",
        "\n",
        "    for j in range(2, temp_len):\n",
        "        tempTr = temp.find_all(\"tr\")[j]\n",
        "\n",
        "        if tempTr.find(\"th\") is not None:\n",
        "            continue\n",
        "\n",
        "        tds = tempTr.find_all(\"td\")\n",
        "\n",
        "\n",
        "        row = {col: tds[idx].text.strip() for idx, col in enumerate(column)}\n",
        "\n",
        "        rows.append(row)\n",
        "\n",
        "    df_raw = pd.DataFrame(rows)\n",
        "    df = df_raw\n",
        "    df = df.drop(columns=['Rank','Name', 'Team'])\n",
        "    df = df.drop(columns=['oWAR','PA', 'AB', 'R/ePA', 'SLG'])\n",
        "\n",
        "    # 예측 확률 계산\\\n",
        "    predictions_proba = model.predict_proba(df)\n",
        "\n",
        "    # 확률이 높은 클래스 (1)의 확률 가져오기\n",
        "    df['Golden_Probability'] = predictions_proba[:, 1]\n",
        "\n",
        "    # 가장 높은 확률을 가진 선수 선정\n",
        "    top_candidate_idx = df['Golden_Probability'].idxmax()\n",
        "\n",
        "    # 결과 출력\n",
        "    print(\"2024년 골든글러브 예측 확률이 가장 높은 \" + position[i])\n",
        "    print(df_raw.iloc[top_candidate_idx][1])\n"
      ],
      "metadata": {
        "colab": {
          "base_uri": "https://localhost:8080/"
        },
        "id": "BK9aCGUvhEMI",
        "outputId": "e956e104-23e2-40b9-eaff-f62a708168e5"
      },
      "execution_count": 15,
      "outputs": [
        {
          "output_type": "stream",
          "name": "stdout",
          "text": [
            "2024년 골든글러브 예측 확률이 가장 높은 포수\n",
            "양의지\n"
          ]
        },
        {
          "output_type": "stream",
          "name": "stderr",
          "text": [
            "<ipython-input-15-5f17086d1821>:42: FutureWarning: Series.__getitem__ treating keys as positions is deprecated. In a future version, integer keys will always be treated as labels (consistent with DataFrame behavior). To access a value by position, use `ser.iloc[pos]`\n",
            "  print(df_raw.iloc[top_candidate_idx][1])\n"
          ]
        },
        {
          "output_type": "stream",
          "name": "stdout",
          "text": [
            "2024년 골든글러브 예측 확률이 가장 높은 1루수\n",
            "오스틴\n"
          ]
        },
        {
          "output_type": "stream",
          "name": "stderr",
          "text": [
            "<ipython-input-15-5f17086d1821>:42: FutureWarning: Series.__getitem__ treating keys as positions is deprecated. In a future version, integer keys will always be treated as labels (consistent with DataFrame behavior). To access a value by position, use `ser.iloc[pos]`\n",
            "  print(df_raw.iloc[top_candidate_idx][1])\n"
          ]
        },
        {
          "output_type": "stream",
          "name": "stdout",
          "text": [
            "2024년 골든글러브 예측 확률이 가장 높은 2루수\n",
            "김혜성\n"
          ]
        },
        {
          "output_type": "stream",
          "name": "stderr",
          "text": [
            "<ipython-input-15-5f17086d1821>:42: FutureWarning: Series.__getitem__ treating keys as positions is deprecated. In a future version, integer keys will always be treated as labels (consistent with DataFrame behavior). To access a value by position, use `ser.iloc[pos]`\n",
            "  print(df_raw.iloc[top_candidate_idx][1])\n"
          ]
        },
        {
          "output_type": "stream",
          "name": "stdout",
          "text": [
            "2024년 골든글러브 예측 확률이 가장 높은 3루수\n",
            "김도영\n"
          ]
        },
        {
          "output_type": "stream",
          "name": "stderr",
          "text": [
            "<ipython-input-15-5f17086d1821>:42: FutureWarning: Series.__getitem__ treating keys as positions is deprecated. In a future version, integer keys will always be treated as labels (consistent with DataFrame behavior). To access a value by position, use `ser.iloc[pos]`\n",
            "  print(df_raw.iloc[top_candidate_idx][1])\n"
          ]
        },
        {
          "output_type": "stream",
          "name": "stdout",
          "text": [
            "2024년 골든글러브 예측 확률이 가장 높은 유격수\n",
            "박찬호\n"
          ]
        },
        {
          "output_type": "stream",
          "name": "stderr",
          "text": [
            "<ipython-input-15-5f17086d1821>:42: FutureWarning: Series.__getitem__ treating keys as positions is deprecated. In a future version, integer keys will always be treated as labels (consistent with DataFrame behavior). To access a value by position, use `ser.iloc[pos]`\n",
            "  print(df_raw.iloc[top_candidate_idx][1])\n"
          ]
        },
        {
          "output_type": "stream",
          "name": "stdout",
          "text": [
            "2024년 골든글러브 예측 확률이 가장 높은 좌익수\n",
            "구자욱\n"
          ]
        },
        {
          "output_type": "stream",
          "name": "stderr",
          "text": [
            "<ipython-input-15-5f17086d1821>:42: FutureWarning: Series.__getitem__ treating keys as positions is deprecated. In a future version, integer keys will always be treated as labels (consistent with DataFrame behavior). To access a value by position, use `ser.iloc[pos]`\n",
            "  print(df_raw.iloc[top_candidate_idx][1])\n"
          ]
        },
        {
          "output_type": "stream",
          "name": "stdout",
          "text": [
            "2024년 골든글러브 예측 확률이 가장 높은 중견수\n",
            "김지찬\n"
          ]
        },
        {
          "output_type": "stream",
          "name": "stderr",
          "text": [
            "<ipython-input-15-5f17086d1821>:42: FutureWarning: Series.__getitem__ treating keys as positions is deprecated. In a future version, integer keys will always be treated as labels (consistent with DataFrame behavior). To access a value by position, use `ser.iloc[pos]`\n",
            "  print(df_raw.iloc[top_candidate_idx][1])\n"
          ]
        },
        {
          "output_type": "stream",
          "name": "stdout",
          "text": [
            "2024년 골든글러브 예측 확률이 가장 높은 우익수\n",
            "로하스\n"
          ]
        },
        {
          "output_type": "stream",
          "name": "stderr",
          "text": [
            "<ipython-input-15-5f17086d1821>:42: FutureWarning: Series.__getitem__ treating keys as positions is deprecated. In a future version, integer keys will always be treated as labels (consistent with DataFrame behavior). To access a value by position, use `ser.iloc[pos]`\n",
            "  print(df_raw.iloc[top_candidate_idx][1])\n"
          ]
        },
        {
          "output_type": "stream",
          "name": "stdout",
          "text": [
            "2024년 골든글러브 예측 확률이 가장 높은 지명타자\n",
            "전준우\n"
          ]
        },
        {
          "output_type": "stream",
          "name": "stderr",
          "text": [
            "<ipython-input-15-5f17086d1821>:42: FutureWarning: Series.__getitem__ treating keys as positions is deprecated. In a future version, integer keys will always be treated as labels (consistent with DataFrame behavior). To access a value by position, use `ser.iloc[pos]`\n",
            "  print(df_raw.iloc[top_candidate_idx][1])\n"
          ]
        }
      ]
    },
    {
      "cell_type": "markdown",
      "source": [
        "## **6. result_analysis**"
      ],
      "metadata": {
        "id": "N7fv4Ib5YM_g"
      }
    },
    {
      "cell_type": "code",
      "source": [
        "\n",
        "# 모델 학습 후, feature importance 분석\n",
        "feature_importance = pd.DataFrame({\n",
        "    'Feature': X.columns,\n",
        "    'Importance': np.abs(model.coef_[0])  # 회귀 계수의 절대값\n",
        "})\n",
        "\n",
        "# 중요도를 기준으로 정렬\n",
        "feature_importance = feature_importance.sort_values(by='Importance', ascending=False)\n",
        "\n",
        "# 결과 출력\n",
        "print(\"Feature Importance:\")\n",
        "print(feature_importance)\n"
      ],
      "metadata": {
        "id": "cZ7GV2-Zld5P",
        "colab": {
          "base_uri": "https://localhost:8080/"
        },
        "outputId": "3094e58e-2d3a-4246-b587-d047644c4650"
      },
      "execution_count": 16,
      "outputs": [
        {
          "output_type": "stream",
          "name": "stdout",
          "text": [
            "Feature Importance:\n",
            "   Feature  Importance\n",
            "0      WAR    0.397137\n",
            "17     GDP    0.102670\n",
            "19      SF    0.083966\n",
            "1     dWAR    0.072173\n",
            "23    wRC+    0.067372\n",
            "18      SH    0.064218\n",
            "11      SB    0.063033\n",
            "6       2B    0.058923\n",
            "15      IB    0.047173\n",
            "14      HP    0.040309\n",
            "2        G    0.037180\n",
            "7       3B    0.027441\n",
            "5        H    0.019842\n",
            "16      SO    0.018894\n",
            "13      BB    0.018830\n",
            "12      CS    0.015956\n",
            "9       TB    0.004330\n",
            "3      ePA    0.004192\n",
            "8       HR    0.003824\n",
            "4        R    0.003677\n",
            "10     RBI    0.001877\n",
            "22     OPS    0.000314\n",
            "21     OBP    0.000197\n",
            "20     AVG    0.000097\n"
          ]
        }
      ]
    },
    {
      "cell_type": "code",
      "source": [],
      "metadata": {
        "id": "CBQxLURRmXCo"
      },
      "execution_count": 16,
      "outputs": []
    }
  ]
}